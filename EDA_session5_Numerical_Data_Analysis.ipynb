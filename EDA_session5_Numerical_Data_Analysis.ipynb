{
 "cells": [
  {
   "cell_type": "code",
   "execution_count": 1,
   "id": "715b9440-e26f-493e-9f05-463fc29a9ca5",
   "metadata": {},
   "outputs": [],
   "source": [
    "import pandas as pd\n",
    "import numpy as np\n",
    "import matplotlib.pyplot as plt\n",
    "import seaborn as sns"
   ]
  },
  {
   "cell_type": "code",
   "execution_count": 2,
   "id": "86cf73b5-de2a-4825-b48d-db3d873fe052",
   "metadata": {},
   "outputs": [
    {
     "data": {
      "text/html": [
       "<div>\n",
       "<style scoped>\n",
       "    .dataframe tbody tr th:only-of-type {\n",
       "        vertical-align: middle;\n",
       "    }\n",
       "\n",
       "    .dataframe tbody tr th {\n",
       "        vertical-align: top;\n",
       "    }\n",
       "\n",
       "    .dataframe thead th {\n",
       "        text-align: right;\n",
       "    }\n",
       "</style>\n",
       "<table border=\"1\" class=\"dataframe\">\n",
       "  <thead>\n",
       "    <tr style=\"text-align: right;\">\n",
       "      <th></th>\n",
       "      <th>case_id</th>\n",
       "      <th>continent</th>\n",
       "      <th>education_of_employee</th>\n",
       "      <th>has_job_experience</th>\n",
       "      <th>requires_job_training</th>\n",
       "      <th>no_of_employees</th>\n",
       "      <th>yr_of_estab</th>\n",
       "      <th>region_of_employment</th>\n",
       "      <th>prevailing_wage</th>\n",
       "      <th>unit_of_wage</th>\n",
       "      <th>full_time_position</th>\n",
       "      <th>case_status</th>\n",
       "    </tr>\n",
       "  </thead>\n",
       "  <tbody>\n",
       "    <tr>\n",
       "      <th>0</th>\n",
       "      <td>EZYV01</td>\n",
       "      <td>Asia</td>\n",
       "      <td>High School</td>\n",
       "      <td>N</td>\n",
       "      <td>N</td>\n",
       "      <td>14513</td>\n",
       "      <td>2007</td>\n",
       "      <td>West</td>\n",
       "      <td>592.2029</td>\n",
       "      <td>Hour</td>\n",
       "      <td>Y</td>\n",
       "      <td>Denied</td>\n",
       "    </tr>\n",
       "    <tr>\n",
       "      <th>1</th>\n",
       "      <td>EZYV02</td>\n",
       "      <td>Asia</td>\n",
       "      <td>Master's</td>\n",
       "      <td>Y</td>\n",
       "      <td>N</td>\n",
       "      <td>2412</td>\n",
       "      <td>2002</td>\n",
       "      <td>Northeast</td>\n",
       "      <td>83425.6500</td>\n",
       "      <td>Year</td>\n",
       "      <td>Y</td>\n",
       "      <td>Certified</td>\n",
       "    </tr>\n",
       "    <tr>\n",
       "      <th>2</th>\n",
       "      <td>EZYV03</td>\n",
       "      <td>Asia</td>\n",
       "      <td>Bachelor's</td>\n",
       "      <td>N</td>\n",
       "      <td>Y</td>\n",
       "      <td>44444</td>\n",
       "      <td>2008</td>\n",
       "      <td>West</td>\n",
       "      <td>122996.8600</td>\n",
       "      <td>Year</td>\n",
       "      <td>Y</td>\n",
       "      <td>Denied</td>\n",
       "    </tr>\n",
       "    <tr>\n",
       "      <th>3</th>\n",
       "      <td>EZYV04</td>\n",
       "      <td>Asia</td>\n",
       "      <td>Bachelor's</td>\n",
       "      <td>N</td>\n",
       "      <td>N</td>\n",
       "      <td>98</td>\n",
       "      <td>1897</td>\n",
       "      <td>West</td>\n",
       "      <td>83434.0300</td>\n",
       "      <td>Year</td>\n",
       "      <td>Y</td>\n",
       "      <td>Denied</td>\n",
       "    </tr>\n",
       "    <tr>\n",
       "      <th>4</th>\n",
       "      <td>EZYV05</td>\n",
       "      <td>Africa</td>\n",
       "      <td>Master's</td>\n",
       "      <td>Y</td>\n",
       "      <td>N</td>\n",
       "      <td>1082</td>\n",
       "      <td>2005</td>\n",
       "      <td>South</td>\n",
       "      <td>149907.3900</td>\n",
       "      <td>Year</td>\n",
       "      <td>Y</td>\n",
       "      <td>Certified</td>\n",
       "    </tr>\n",
       "    <tr>\n",
       "      <th>...</th>\n",
       "      <td>...</td>\n",
       "      <td>...</td>\n",
       "      <td>...</td>\n",
       "      <td>...</td>\n",
       "      <td>...</td>\n",
       "      <td>...</td>\n",
       "      <td>...</td>\n",
       "      <td>...</td>\n",
       "      <td>...</td>\n",
       "      <td>...</td>\n",
       "      <td>...</td>\n",
       "      <td>...</td>\n",
       "    </tr>\n",
       "    <tr>\n",
       "      <th>25475</th>\n",
       "      <td>EZYV25476</td>\n",
       "      <td>Asia</td>\n",
       "      <td>Bachelor's</td>\n",
       "      <td>Y</td>\n",
       "      <td>Y</td>\n",
       "      <td>2601</td>\n",
       "      <td>2008</td>\n",
       "      <td>South</td>\n",
       "      <td>77092.5700</td>\n",
       "      <td>Year</td>\n",
       "      <td>Y</td>\n",
       "      <td>Certified</td>\n",
       "    </tr>\n",
       "    <tr>\n",
       "      <th>25476</th>\n",
       "      <td>EZYV25477</td>\n",
       "      <td>Asia</td>\n",
       "      <td>High School</td>\n",
       "      <td>Y</td>\n",
       "      <td>N</td>\n",
       "      <td>3274</td>\n",
       "      <td>2006</td>\n",
       "      <td>Northeast</td>\n",
       "      <td>279174.7900</td>\n",
       "      <td>Year</td>\n",
       "      <td>Y</td>\n",
       "      <td>Certified</td>\n",
       "    </tr>\n",
       "    <tr>\n",
       "      <th>25477</th>\n",
       "      <td>EZYV25478</td>\n",
       "      <td>Asia</td>\n",
       "      <td>Master's</td>\n",
       "      <td>Y</td>\n",
       "      <td>N</td>\n",
       "      <td>1121</td>\n",
       "      <td>1910</td>\n",
       "      <td>South</td>\n",
       "      <td>146298.8500</td>\n",
       "      <td>Year</td>\n",
       "      <td>N</td>\n",
       "      <td>Certified</td>\n",
       "    </tr>\n",
       "    <tr>\n",
       "      <th>25478</th>\n",
       "      <td>EZYV25479</td>\n",
       "      <td>Asia</td>\n",
       "      <td>Master's</td>\n",
       "      <td>Y</td>\n",
       "      <td>Y</td>\n",
       "      <td>1918</td>\n",
       "      <td>1887</td>\n",
       "      <td>West</td>\n",
       "      <td>86154.7700</td>\n",
       "      <td>Year</td>\n",
       "      <td>Y</td>\n",
       "      <td>Certified</td>\n",
       "    </tr>\n",
       "    <tr>\n",
       "      <th>25479</th>\n",
       "      <td>EZYV25480</td>\n",
       "      <td>Asia</td>\n",
       "      <td>Bachelor's</td>\n",
       "      <td>Y</td>\n",
       "      <td>N</td>\n",
       "      <td>3195</td>\n",
       "      <td>1960</td>\n",
       "      <td>Midwest</td>\n",
       "      <td>70876.9100</td>\n",
       "      <td>Year</td>\n",
       "      <td>Y</td>\n",
       "      <td>Certified</td>\n",
       "    </tr>\n",
       "  </tbody>\n",
       "</table>\n",
       "<p>25480 rows × 12 columns</p>\n",
       "</div>"
      ],
      "text/plain": [
       "         case_id continent education_of_employee has_job_experience  \\\n",
       "0         EZYV01      Asia           High School                  N   \n",
       "1         EZYV02      Asia              Master's                  Y   \n",
       "2         EZYV03      Asia            Bachelor's                  N   \n",
       "3         EZYV04      Asia            Bachelor's                  N   \n",
       "4         EZYV05    Africa              Master's                  Y   \n",
       "...          ...       ...                   ...                ...   \n",
       "25475  EZYV25476      Asia            Bachelor's                  Y   \n",
       "25476  EZYV25477      Asia           High School                  Y   \n",
       "25477  EZYV25478      Asia              Master's                  Y   \n",
       "25478  EZYV25479      Asia              Master's                  Y   \n",
       "25479  EZYV25480      Asia            Bachelor's                  Y   \n",
       "\n",
       "      requires_job_training  no_of_employees  yr_of_estab  \\\n",
       "0                         N            14513         2007   \n",
       "1                         N             2412         2002   \n",
       "2                         Y            44444         2008   \n",
       "3                         N               98         1897   \n",
       "4                         N             1082         2005   \n",
       "...                     ...              ...          ...   \n",
       "25475                     Y             2601         2008   \n",
       "25476                     N             3274         2006   \n",
       "25477                     N             1121         1910   \n",
       "25478                     Y             1918         1887   \n",
       "25479                     N             3195         1960   \n",
       "\n",
       "      region_of_employment  prevailing_wage unit_of_wage full_time_position  \\\n",
       "0                     West         592.2029         Hour                  Y   \n",
       "1                Northeast       83425.6500         Year                  Y   \n",
       "2                     West      122996.8600         Year                  Y   \n",
       "3                     West       83434.0300         Year                  Y   \n",
       "4                    South      149907.3900         Year                  Y   \n",
       "...                    ...              ...          ...                ...   \n",
       "25475                South       77092.5700         Year                  Y   \n",
       "25476            Northeast      279174.7900         Year                  Y   \n",
       "25477                South      146298.8500         Year                  N   \n",
       "25478                 West       86154.7700         Year                  Y   \n",
       "25479              Midwest       70876.9100         Year                  Y   \n",
       "\n",
       "      case_status  \n",
       "0          Denied  \n",
       "1       Certified  \n",
       "2          Denied  \n",
       "3          Denied  \n",
       "4       Certified  \n",
       "...           ...  \n",
       "25475   Certified  \n",
       "25476   Certified  \n",
       "25477   Certified  \n",
       "25478   Certified  \n",
       "25479   Certified  \n",
       "\n",
       "[25480 rows x 12 columns]"
      ]
     },
     "execution_count": 2,
     "metadata": {},
     "output_type": "execute_result"
    }
   ],
   "source": [
    "visa_df = pd.read_csv(r'C:\\Users\\User\\Downloads\\Visadataset.csv')\n",
    "visa_df"
   ]
  },
  {
   "cell_type": "code",
   "execution_count": 3,
   "id": "8b702184-ca81-4c83-9a53-9a9f71729117",
   "metadata": {},
   "outputs": [
    {
     "data": {
      "text/html": [
       "<div>\n",
       "<style scoped>\n",
       "    .dataframe tbody tr th:only-of-type {\n",
       "        vertical-align: middle;\n",
       "    }\n",
       "\n",
       "    .dataframe tbody tr th {\n",
       "        vertical-align: top;\n",
       "    }\n",
       "\n",
       "    .dataframe thead th {\n",
       "        text-align: right;\n",
       "    }\n",
       "</style>\n",
       "<table border=\"1\" class=\"dataframe\">\n",
       "  <thead>\n",
       "    <tr style=\"text-align: right;\">\n",
       "      <th></th>\n",
       "      <th>no_of_employees</th>\n",
       "      <th>yr_of_estab</th>\n",
       "      <th>prevailing_wage</th>\n",
       "    </tr>\n",
       "  </thead>\n",
       "  <tbody>\n",
       "    <tr>\n",
       "      <th>count</th>\n",
       "      <td>25480.000000</td>\n",
       "      <td>25480.000000</td>\n",
       "      <td>25480.000000</td>\n",
       "    </tr>\n",
       "    <tr>\n",
       "      <th>mean</th>\n",
       "      <td>5667.043210</td>\n",
       "      <td>1979.409929</td>\n",
       "      <td>74455.814592</td>\n",
       "    </tr>\n",
       "    <tr>\n",
       "      <th>std</th>\n",
       "      <td>22877.928848</td>\n",
       "      <td>42.366929</td>\n",
       "      <td>52815.942327</td>\n",
       "    </tr>\n",
       "    <tr>\n",
       "      <th>min</th>\n",
       "      <td>-26.000000</td>\n",
       "      <td>1800.000000</td>\n",
       "      <td>2.136700</td>\n",
       "    </tr>\n",
       "    <tr>\n",
       "      <th>25%</th>\n",
       "      <td>1022.000000</td>\n",
       "      <td>1976.000000</td>\n",
       "      <td>34015.480000</td>\n",
       "    </tr>\n",
       "    <tr>\n",
       "      <th>50%</th>\n",
       "      <td>2109.000000</td>\n",
       "      <td>1997.000000</td>\n",
       "      <td>70308.210000</td>\n",
       "    </tr>\n",
       "    <tr>\n",
       "      <th>75%</th>\n",
       "      <td>3504.000000</td>\n",
       "      <td>2005.000000</td>\n",
       "      <td>107735.512500</td>\n",
       "    </tr>\n",
       "    <tr>\n",
       "      <th>max</th>\n",
       "      <td>602069.000000</td>\n",
       "      <td>2016.000000</td>\n",
       "      <td>319210.270000</td>\n",
       "    </tr>\n",
       "  </tbody>\n",
       "</table>\n",
       "</div>"
      ],
      "text/plain": [
       "       no_of_employees   yr_of_estab  prevailing_wage\n",
       "count     25480.000000  25480.000000     25480.000000\n",
       "mean       5667.043210   1979.409929     74455.814592\n",
       "std       22877.928848     42.366929     52815.942327\n",
       "min         -26.000000   1800.000000         2.136700\n",
       "25%        1022.000000   1976.000000     34015.480000\n",
       "50%        2109.000000   1997.000000     70308.210000\n",
       "75%        3504.000000   2005.000000    107735.512500\n",
       "max      602069.000000   2016.000000    319210.270000"
      ]
     },
     "execution_count": 3,
     "metadata": {},
     "output_type": "execute_result"
    }
   ],
   "source": [
    "visa_df.describe()"
   ]
  },
  {
   "cell_type": "markdown",
   "id": "23183d0b-d6ca-40ac-b283-72d7ccf02df2",
   "metadata": {},
   "source": [
    "**Selecting the numerical columns**"
   ]
  },
  {
   "cell_type": "code",
   "execution_count": 4,
   "id": "d7d44987-9590-4f25-a29a-04d38f42fbe3",
   "metadata": {},
   "outputs": [
    {
     "data": {
      "text/plain": [
       "Index(['no_of_employees', 'yr_of_estab', 'prevailing_wage'], dtype='object')"
      ]
     },
     "execution_count": 4,
     "metadata": {},
     "output_type": "execute_result"
    }
   ],
   "source": [
    "visa_df.select_dtypes(exclude='object').columns"
   ]
  },
  {
   "cell_type": "markdown",
   "id": "6ba44234-9fc2-4f4c-8f74-19e0d62b69c2",
   "metadata": {},
   "source": [
    "**Prevailing Wage**"
   ]
  },
  {
   "cell_type": "markdown",
   "id": "3af82e9a-a34d-42e4-aba3-f676ecc19578",
   "metadata": {},
   "source": [
    "**Count or len**"
   ]
  },
  {
   "cell_type": "code",
   "execution_count": 5,
   "id": "f99d781f-3cf4-4e00-936e-861d63f038f1",
   "metadata": {},
   "outputs": [
    {
     "data": {
      "text/plain": [
       "25480"
      ]
     },
     "execution_count": 5,
     "metadata": {},
     "output_type": "execute_result"
    }
   ],
   "source": [
    "len(visa_df['prevailing_wage'])"
   ]
  },
  {
   "cell_type": "markdown",
   "id": "847d3e69-cc09-476e-ba0c-9f8942924c1c",
   "metadata": {},
   "source": [
    "**max**"
   ]
  },
  {
   "cell_type": "code",
   "execution_count": 6,
   "id": "3ec86759-8648-4c56-b769-f30238034883",
   "metadata": {},
   "outputs": [
    {
     "data": {
      "text/plain": [
       "319210.27"
      ]
     },
     "execution_count": 6,
     "metadata": {},
     "output_type": "execute_result"
    }
   ],
   "source": [
    "max(visa_df['prevailing_wage'])"
   ]
  },
  {
   "cell_type": "code",
   "execution_count": 7,
   "id": "5cbc8f27-9f6c-49d4-8012-6bd5156b45a4",
   "metadata": {},
   "outputs": [
    {
     "data": {
      "text/plain": [
       "319210.27"
      ]
     },
     "execution_count": 7,
     "metadata": {},
     "output_type": "execute_result"
    }
   ],
   "source": [
    "visa_df['prevailing_wage'].max() #using pandas"
   ]
  },
  {
   "cell_type": "code",
   "execution_count": 8,
   "id": "90d8c7e8-1efc-43fe-b776-904215b503a6",
   "metadata": {},
   "outputs": [
    {
     "data": {
      "text/plain": [
       "319210.27"
      ]
     },
     "execution_count": 8,
     "metadata": {},
     "output_type": "execute_result"
    }
   ],
   "source": [
    "np.max(visa_df['prevailing_wage']) #using numpy"
   ]
  },
  {
   "cell_type": "markdown",
   "id": "86fcb9c6-df34-4bed-8c93-bede0ec82a2d",
   "metadata": {},
   "source": [
    "**min**"
   ]
  },
  {
   "cell_type": "code",
   "execution_count": 9,
   "id": "2cdd42be-f72e-4bfa-98d7-9edd7d4fb40f",
   "metadata": {},
   "outputs": [
    {
     "name": "stdout",
     "output_type": "stream",
     "text": [
      "2.1367\n",
      "2.1367\n",
      "2.1367\n"
     ]
    }
   ],
   "source": [
    "print(min(visa_df['prevailing_wage']))\n",
    "print(visa_df['prevailing_wage'].min())\n",
    "print(np.min(visa_df['prevailing_wage']))"
   ]
  },
  {
   "cell_type": "markdown",
   "id": "192f1c1c-52dd-4cc8-991e-c46822f0dc2d",
   "metadata": {},
   "source": [
    "**mean**"
   ]
  },
  {
   "cell_type": "code",
   "execution_count": 10,
   "id": "f182bae4-2c11-42d5-ac21-04ced4f45346",
   "metadata": {},
   "outputs": [
    {
     "data": {
      "text/plain": [
       "74455.81459209183"
      ]
     },
     "execution_count": 10,
     "metadata": {},
     "output_type": "execute_result"
    }
   ],
   "source": [
    "visa_df['prevailing_wage'].mean()"
   ]
  },
  {
   "cell_type": "code",
   "execution_count": 11,
   "id": "0e3e7a2b-6227-43fd-a9d9-3839567bf586",
   "metadata": {},
   "outputs": [
    {
     "data": {
      "text/plain": [
       "74455.81459209183"
      ]
     },
     "execution_count": 11,
     "metadata": {},
     "output_type": "execute_result"
    }
   ],
   "source": [
    "np.mean(visa_df['prevailing_wage'])"
   ]
  },
  {
   "cell_type": "markdown",
   "id": "21c85fe4-40f8-4b4c-b316-ddb43edfeec1",
   "metadata": {},
   "source": [
    "**median**"
   ]
  },
  {
   "cell_type": "code",
   "execution_count": 12,
   "id": "9304e35c-b7de-4e80-bd95-6bc3d3af7583",
   "metadata": {},
   "outputs": [
    {
     "data": {
      "text/plain": [
       "70308.20999999999"
      ]
     },
     "execution_count": 12,
     "metadata": {},
     "output_type": "execute_result"
    }
   ],
   "source": [
    "visa_df['prevailing_wage'].median()"
   ]
  },
  {
   "cell_type": "code",
   "execution_count": 13,
   "id": "22f4640f-f12d-4819-8982-2e1cff160ab9",
   "metadata": {},
   "outputs": [
    {
     "data": {
      "text/plain": [
       "70308.20999999999"
      ]
     },
     "execution_count": 13,
     "metadata": {},
     "output_type": "execute_result"
    }
   ],
   "source": [
    "np.median(visa_df['prevailing_wage'])"
   ]
  },
  {
   "cell_type": "markdown",
   "id": "b9a74df9-961f-4e57-9554-bd6a6cf71e6f",
   "metadata": {},
   "source": [
    "**standard deviation**"
   ]
  },
  {
   "cell_type": "code",
   "execution_count": 14,
   "id": "d047cf35-f262-4723-864f-4e895b24ef43",
   "metadata": {},
   "outputs": [
    {
     "data": {
      "text/plain": [
       "52815.94232687357"
      ]
     },
     "execution_count": 14,
     "metadata": {},
     "output_type": "execute_result"
    }
   ],
   "source": [
    "visa_df['prevailing_wage'].std()"
   ]
  },
  {
   "cell_type": "code",
   "execution_count": 15,
   "id": "e26ef04e-563b-4de3-9ff1-f977766f17bd",
   "metadata": {},
   "outputs": [
    {
     "data": {
      "text/plain": [
       "52814.90589711402"
      ]
     },
     "execution_count": 15,
     "metadata": {},
     "output_type": "execute_result"
    }
   ],
   "source": [
    "np.std(visa_df['prevailing_wage'])"
   ]
  },
  {
   "cell_type": "code",
   "execution_count": 16,
   "id": "e6f7d27f-da31-4220-869d-4a74799bdec5",
   "metadata": {},
   "outputs": [
    {
     "data": {
      "text/html": [
       "<div>\n",
       "<style scoped>\n",
       "    .dataframe tbody tr th:only-of-type {\n",
       "        vertical-align: middle;\n",
       "    }\n",
       "\n",
       "    .dataframe tbody tr th {\n",
       "        vertical-align: top;\n",
       "    }\n",
       "\n",
       "    .dataframe thead th {\n",
       "        text-align: right;\n",
       "    }\n",
       "</style>\n",
       "<table border=\"1\" class=\"dataframe\">\n",
       "  <thead>\n",
       "    <tr style=\"text-align: right;\">\n",
       "      <th></th>\n",
       "      <th>prevailing_wage</th>\n",
       "    </tr>\n",
       "  </thead>\n",
       "  <tbody>\n",
       "    <tr>\n",
       "      <th>count</th>\n",
       "      <td>25480.00</td>\n",
       "    </tr>\n",
       "    <tr>\n",
       "      <th>min</th>\n",
       "      <td>2.14</td>\n",
       "    </tr>\n",
       "    <tr>\n",
       "      <th>max</th>\n",
       "      <td>319210.27</td>\n",
       "    </tr>\n",
       "    <tr>\n",
       "      <th>mean</th>\n",
       "      <td>74455.81</td>\n",
       "    </tr>\n",
       "    <tr>\n",
       "      <th>median</th>\n",
       "      <td>70308.21</td>\n",
       "    </tr>\n",
       "    <tr>\n",
       "      <th>std</th>\n",
       "      <td>52815.94</td>\n",
       "    </tr>\n",
       "  </tbody>\n",
       "</table>\n",
       "</div>"
      ],
      "text/plain": [
       "        prevailing_wage\n",
       "count          25480.00\n",
       "min                2.14\n",
       "max           319210.27\n",
       "mean           74455.81\n",
       "median         70308.21\n",
       "std            52815.94"
      ]
     },
     "execution_count": 16,
     "metadata": {},
     "output_type": "execute_result"
    }
   ],
   "source": [
    "list_values=[]\n",
    "wage_count=round(len(visa_df['prevailing_wage']),2)\n",
    "wage_min=round(visa_df['prevailing_wage'].min(),2)\n",
    "wage_max=round(visa_df['prevailing_wage'].max(),2)\n",
    "wage_mean=round(visa_df['prevailing_wage'].mean(),2)\n",
    "wage_median=round(visa_df['prevailing_wage'].median(),2)\n",
    "wage_std=round(visa_df['prevailing_wage'].std(),2)\n",
    "\n",
    "list_values.append(wage_count)\n",
    "list_values.append(wage_min)\n",
    "list_values.append(wage_max)\n",
    "list_values.append(wage_mean)\n",
    "list_values.append(wage_median)\n",
    "list_values.append(wage_std)\n",
    "\n",
    "index_cols=['count','min', 'max', 'mean', 'median', 'std']\n",
    "\n",
    "#create a dataframe\n",
    "df=pd.DataFrame(list_values,index=index_cols,columns=['prevailing_wage'])\n",
    "df"
   ]
  },
  {
   "cell_type": "markdown",
   "id": "49e04238-68f6-46a4-bacf-f083e267f883",
   "metadata": {},
   "source": [
    "**Percentile and Quantile**\n",
    "\n",
    "- np.percentile()\n",
    "- It takes two arguments\n",
    "    - a:data\n",
    "    - percentile - q:the values varies from 1 to 100\n",
    "- If you want 50percentile data then q=50\n",
    "\n",
    "- np.quantile()\n",
    "- It takes two arguments\n",
    "    - a:data\n",
    "    - percentile - q:the values varies from 0 to 1\n",
    "- If you want 50percentile data then q=0.5"
   ]
  },
  {
   "cell_type": "markdown",
   "id": "96cc1a97-8bb6-431b-b06a-d651478e8ae1",
   "metadata": {},
   "source": [
    "**25P-50P-75P**"
   ]
  },
  {
   "cell_type": "code",
   "execution_count": 17,
   "id": "ff56cd2b-51f2-44fb-889c-518772c0b910",
   "metadata": {},
   "outputs": [
    {
     "name": "stdout",
     "output_type": "stream",
     "text": [
      "The 25% data is 34015.48\n",
      "The 50% data is 70308.21\n",
      "The 75% data is 107735.51\n"
     ]
    }
   ],
   "source": [
    "wage_25P=round(np.percentile(visa_df['prevailing_wage'],25),2)\n",
    "wage_50P=round(np.percentile(visa_df['prevailing_wage'],50),2)\n",
    "wage_75P=round(np.percentile(visa_df['prevailing_wage'],75),2)\n",
    "\n",
    "print(f\"The 25% data is {wage_25P}\")\n",
    "print(f\"The 50% data is {wage_50P}\")\n",
    "print(f\"The 75% data is {wage_75P}\")"
   ]
  },
  {
   "cell_type": "code",
   "execution_count": 18,
   "id": "720cee1c-b4d2-47c5-9564-abd08b9cc79d",
   "metadata": {},
   "outputs": [
    {
     "name": "stdout",
     "output_type": "stream",
     "text": [
      "The 25% data is 34015.48\n",
      "The 50% data is 70308.21\n",
      "The 75% data is 107735.51\n"
     ]
    }
   ],
   "source": [
    "wage_25P=round(np.quantile(visa_df['prevailing_wage'],0.25),2)\n",
    "wage_50P=round(np.quantile(visa_df['prevailing_wage'],0.50),2)\n",
    "wage_75P=round(np.quantile(visa_df['prevailing_wage'],0.75),2)\n",
    "\n",
    "print(f\"The 25% data is {wage_25P}\")\n",
    "print(f\"The 50% data is {wage_50P}\")\n",
    "print(f\"The 75% data is {wage_75P}\")"
   ]
  },
  {
   "cell_type": "markdown",
   "id": "f8ec2351-8c47-4039-bf2b-42f7ffd9aec2",
   "metadata": {},
   "source": [
    "**Understand the percentile**\n",
    "\n",
    "- Definition of 25 Percentile: This means there are 25% of employees have salary less than 34015.48\n",
    "- Total employees: 25480\n",
    "- 25% of employees = 25*25480/100 = 6370\n",
    "- This means 6370 employees have salary less than 34015.48\n",
    "\n",
    "- Definition of 50 Percentile: This means there are 25% of employees have salary less than 34015.48\n",
    "- Total employees: c\n",
    "- 50% of employees = 50*25480/100 = 12,740\n",
    "- This means 12,740 employees have salary less than 34015.48"
   ]
  },
  {
   "cell_type": "code",
   "execution_count": 19,
   "id": "a0207524-c38b-4e76-978e-09a8135c2436",
   "metadata": {},
   "outputs": [
    {
     "data": {
      "text/plain": [
       "6370"
      ]
     },
     "execution_count": 19,
     "metadata": {},
     "output_type": "execute_result"
    }
   ],
   "source": [
    "con=visa_df['prevailing_wage']  < 34015.48\n",
    "len(visa_df[con])"
   ]
  },
  {
   "cell_type": "code",
   "execution_count": 20,
   "id": "e1783c19-a82c-43f7-81f0-ff04a5830a8b",
   "metadata": {},
   "outputs": [
    {
     "data": {
      "text/plain": [
       "6370"
      ]
     },
     "execution_count": 20,
     "metadata": {},
     "output_type": "execute_result"
    }
   ],
   "source": [
    "con=visa_df['prevailing_wage']  < wage_25P\n",
    "len(visa_df[con])"
   ]
  },
  {
   "cell_type": "code",
   "execution_count": 21,
   "id": "01fdf6b0-e598-4d68-9e04-90533f1f963e",
   "metadata": {},
   "outputs": [
    {
     "data": {
      "text/plain": [
       "12740"
      ]
     },
     "execution_count": 21,
     "metadata": {},
     "output_type": "execute_result"
    }
   ],
   "source": [
    "con=visa_df['prevailing_wage']  < wage_50P\n",
    "len(visa_df[con])"
   ]
  },
  {
   "cell_type": "code",
   "execution_count": 22,
   "id": "0914367a-12c4-4981-b2a3-cb204b095745",
   "metadata": {},
   "outputs": [
    {
     "data": {
      "text/plain": [
       "19110"
      ]
     },
     "execution_count": 22,
     "metadata": {},
     "output_type": "execute_result"
    }
   ],
   "source": [
    "con=visa_df['prevailing_wage']  < wage_75P\n",
    "len(visa_df[con])"
   ]
  },
  {
   "cell_type": "markdown",
   "id": "daa1415b-7850-4890-8719-c537a71b6ac7",
   "metadata": {},
   "source": [
    "**Emperical rule**\n",
    "\n",
    "- 68-95-99.7"
   ]
  },
  {
   "cell_type": "markdown",
   "id": "743a383c-0e60-4dc4-b8e0-5dd1b5f60814",
   "metadata": {},
   "source": [
    "- First calculate mean value\n",
    "- calculate standard deviation value\n",
    "\n",
    "- Con1 : mean-1*std\n",
    "- Con2: mean + 1*std\n",
    "\n",
    "- If we apply Con1 and Con2 on wage data, the output count should be equal to 68 % of data\n",
    "- 68% of total employees = 17326"
   ]
  },
  {
   "cell_type": "code",
   "execution_count": 23,
   "id": "2f0724e9-703f-4658-818d-9d8023c3452e",
   "metadata": {},
   "outputs": [
    {
     "data": {
      "text/plain": [
       "17171"
      ]
     },
     "execution_count": 23,
     "metadata": {},
     "output_type": "execute_result"
    }
   ],
   "source": [
    "v1 = wage_mean-1*wage_std\n",
    "v2 = wage_mean+1*wage_std\n",
    "con1=visa_df['prevailing_wage'] > v1\n",
    "con2=visa_df['prevailing_wage'] < v2\n",
    "\n",
    "count1 = len(visa_df[con1 & con2])\n",
    "####################################\n",
    "count1\n",
    "\n"
   ]
  },
  {
   "cell_type": "code",
   "execution_count": 24,
   "id": "c60698bf-92d4-45c1-b1a2-b5a0d3890f2d",
   "metadata": {},
   "outputs": [
    {
     "data": {
      "text/plain": [
       "17170"
      ]
     },
     "execution_count": 24,
     "metadata": {},
     "output_type": "execute_result"
    }
   ],
   "source": [
    "v1 = wage_mean-1*np.std(visa_df['prevailing_wage'])\n",
    "v2 = wage_mean+1*np.std(visa_df['prevailing_wage'])\n",
    "con1=visa_df['prevailing_wage'] > v1\n",
    "con2=visa_df['prevailing_wage'] < v2\n",
    "\n",
    "count1 = len(visa_df[con1 & con2])\n",
    "####################################\n",
    "count1"
   ]
  },
  {
   "cell_type": "code",
   "execution_count": 25,
   "id": "e7cfce1b-5792-4ada-8e74-903bc2da1777",
   "metadata": {},
   "outputs": [
    {
     "data": {
      "text/plain": [
       "(24582, 24206.0)"
      ]
     },
     "execution_count": 25,
     "metadata": {},
     "output_type": "execute_result"
    }
   ],
   "source": [
    "v1 = wage_mean-2*wage_std\n",
    "v2 = wage_mean+2*wage_std\n",
    "con1=visa_df['prevailing_wage'] > v1\n",
    "con2=visa_df['prevailing_wage'] < v2\n",
    "\n",
    "count1 = len(visa_df[con1 & con2])\n",
    "####################################\n",
    "count1,95*25480/100"
   ]
  },
  {
   "cell_type": "code",
   "execution_count": 26,
   "id": "490670a0-fd9b-4eeb-8bf8-fb6f68a8a76a",
   "metadata": {},
   "outputs": [
    {
     "data": {
      "text/plain": [
       "(25186, 25403.56)"
      ]
     },
     "execution_count": 26,
     "metadata": {},
     "output_type": "execute_result"
    }
   ],
   "source": [
    "v1 = wage_mean-3*wage_std\n",
    "v2 = wage_mean+3*wage_std\n",
    "con1=visa_df['prevailing_wage'] > v1\n",
    "con2=visa_df['prevailing_wage'] < v2\n",
    "\n",
    "count1 = len(visa_df[con1 & con2])\n",
    "####################################\n",
    "count1, 99.7*25480/100"
   ]
  },
  {
   "cell_type": "code",
   "execution_count": 27,
   "id": "0390a1c9-ee90-4a3c-aec6-c6be17dd9cf9",
   "metadata": {},
   "outputs": [
    {
     "data": {
      "text/plain": [
       "['no_of_employees', 'yr_of_estab', 'prevailing_wage']"
      ]
     },
     "execution_count": 27,
     "metadata": {},
     "output_type": "execute_result"
    }
   ],
   "source": [
    "numrical_list=list(visa_df.select_dtypes(exclude='object').columns)\n",
    "numrical_list"
   ]
  },
  {
   "cell_type": "code",
   "execution_count": 28,
   "id": "13e7ee97-cab3-42a6-a237-b69c42a6fe0d",
   "metadata": {},
   "outputs": [
    {
     "ename": "SyntaxError",
     "evalue": "unterminated string literal (detected at line 24) (2485693525.py, line 24)",
     "output_type": "error",
     "traceback": [
      "\u001b[1;36m  Cell \u001b[1;32mIn[28], line 24\u001b[1;36m\u001b[0m\n\u001b[1;33m    index_cols=['count','min', 'max', 'mean', 'median', 'std','25%', '50%]\u001b[0m\n\u001b[1;37m                                                                     ^\u001b[0m\n\u001b[1;31mSyntaxError\u001b[0m\u001b[1;31m:\u001b[0m unterminated string literal (detected at line 24)\n"
     ]
    }
   ],
   "source": [
    "list_values=[]\n",
    "wage_count=round(len(visa_df['prevailing_wage']),2)\n",
    "wage_min=round(visa_df['prevailing_wage'].min(),2)\n",
    "wage_max=round(visa_df['prevailing_wage'].max(),2)\n",
    "wage_mean=round(visa_df['prevailing_wage'].mean(),2)\n",
    "wage_median=round(visa_df['prevailing_wage'].median(),2)\n",
    "wage_std=round(visa_df['prevailing_wage'].std(),2)\n",
    "\n",
    "#=============================================================\n",
    "wage_25P=round(np.quantile(visa_df['prevailing_wage'],0.25),2)\n",
    "wage_50P=round(np.quantile(visa_df['prevailing_wage'],0.50),2)\n",
    "wage_75P=round(np.quantile(visa_df['prevailing_wage'],0.75),2)\n",
    "\n",
    "list_values.append(wage_count)\n",
    "list_values.append(wage_min)\n",
    "list_values.append(wage_max)\n",
    "list_values.append(wage_mean)\n",
    "list_values.append(wage_median)\n",
    "list_values.append(wage_std)\n",
    "list_values.append(wage_25P)\n",
    "list_values.append(wage_50P)\n",
    "list_values.append(wage_75P)\n",
    "\n",
    "index_cols=['count','min', 'max', 'mean', 'median', 'std','25%', '50%]\n",
    "\n",
    "#create a dataframe\n",
    "df=pd.DataFrame(list_values,index=index_cols,columns=['prevailing_wage'])\n",
    "df"
   ]
  },
  {
   "cell_type": "code",
   "execution_count": null,
   "id": "ffb2d7ba-b9fb-4762-aa75-605d5fdb0595",
   "metadata": {},
   "outputs": [],
   "source": [
    "numerical_list=list(visa_df.select_dtypes(exclude='object').columns)\n",
    "\n",
    "_vals = []\n",
    "for i in numerical_list:    \n",
    "    _count=round(len(visa_df[i]),2)\n",
    "    _min=round(visa_df[i].min(),2)\n",
    "    _max=round(visa_df[i].max(),2)\n",
    "    _mean=round(visa_df[i].mean(),2)\n",
    "    _median=round(visa_df[i].median(),2)\n",
    "    _std=round(visa_df[i].std(),2)\n",
    "    \n",
    "    _25P=round(np.quantile(visa_df[i],0.25),2)\n",
    "    _50P=round(np.quantile(visa_df[i],0.50),2)\n",
    "    _75P=round(np.quantile(visa_df[i],0.75),2)\n",
    "    _vals.append([_count,_min,_max,_mean,_median,_std,_25P,_50P,_75P])\n",
    "\n",
    "index_cols=['count','min', 'max', 'mean', 'median', 'std','25%', '50%', '75%']\n",
    "\n",
    "#create dataframe\n",
    "df=pd.DataFrame(_vals,index=numerical_list,columns=index_cols).T #T - Transpose, shows the dataframe in a reverse order i.e colmuns becomes rows\n",
    "df"
   ]
  },
  {
   "cell_type": "markdown",
   "id": "cc4fbd9b-a30c-425e-abb4-c397810e5533",
   "metadata": {},
   "source": [
    "## The above functionality can be implemented with one function - describe##"
   ]
  },
  {
   "cell_type": "code",
   "execution_count": null,
   "id": "1cc86532-ac45-4672-a3bb-e6f5137b569d",
   "metadata": {},
   "outputs": [],
   "source": [
    "visa_df.describe() # This function is only for numerical data"
   ]
  },
  {
   "cell_type": "markdown",
   "id": "e1b9806a-bfb6-48a6-a992-e0557d7ac579",
   "metadata": {},
   "source": [
    "**Histogram**"
   ]
  },
  {
   "cell_type": "markdown",
   "id": "236dd7c9-ed70-4501-8f39-b1bae5cb2c03",
   "metadata": {},
   "source": [
    "- Histogram can get by matplotlib\n",
    "- Histogram can also be plotted with seaborn\n",
    "- plt.hist()"
   ]
  },
  {
   "cell_type": "code",
   "execution_count": null,
   "id": "41986c9b-a8d7-43ba-81f4-875c6791a78f",
   "metadata": {},
   "outputs": [],
   "source": [
    "plt.hist(visa_df['prevailing_wage'])"
   ]
  },
  {
   "cell_type": "markdown",
   "id": "c6caf157-54cb-4b90-b623-6918b83d6e42",
   "metadata": {},
   "source": [
    "from interval range \n",
    "\n",
    "    - 2.13670000e+00 to 3.19229500e+04\n",
    "        - 6038 members have salary in the above range (2.1367, 31922.95)\n",
    "    - 3.19229500e+04 to 6.38437634e+04\n",
    "        - 5504 members have salary in the above range\n",
    "\n",
    "***Histogram will give 3 outputs:***\n",
    " - frequency\n",
    "    - in each interval range how many observations are there\n",
    "- interval\n",
    "    - interval range\n",
    "- number of intervals"
   ]
  },
  {
   "cell_type": "code",
   "execution_count": null,
   "id": "2bc428cf-e64e-4164-9729-ac665f4441dc",
   "metadata": {},
   "outputs": [],
   "source": [
    "(2.13670000e+00, 3.19229500e+04)"
   ]
  },
  {
   "cell_type": "markdown",
   "id": "92ba3cc1-4776-4bab-9e95-7954b81b58a3",
   "metadata": {},
   "source": [
    "**Check-Point 1**"
   ]
  },
  {
   "cell_type": "code",
   "execution_count": null,
   "id": "dd733068-99c2-4ae7-b1ce-5bd7e109deb1",
   "metadata": {},
   "outputs": [],
   "source": [
    "con1=visa_df['prevailing_wage'] >= 2.1367\n",
    "con2=visa_df['prevailing_wage'] < 31922.95\n",
    "len(visa_df[con1 & con2])"
   ]
  },
  {
   "cell_type": "markdown",
   "id": "0689ce9c-5965-4756-aac1-c95ee12f8a6e",
   "metadata": {},
   "source": [
    "**bins**"
   ]
  },
  {
   "cell_type": "code",
   "execution_count": null,
   "id": "c521e060-4f2a-41e2-9928-285ee30f7a79",
   "metadata": {},
   "outputs": [],
   "source": [
    "f,i,n = plt.hist(visa_df['prevailing_wage'],bins=40)\n",
    "print(n) # n means number of bins"
   ]
  },
  {
   "cell_type": "code",
   "execution_count": null,
   "id": "9d801c78-1313-4992-aefc-ac5992bedc28",
   "metadata": {},
   "outputs": [],
   "source": [
    "plt.hist(visa_df['prevailing_wage'],bins=40)\n",
    "plt.title('Histogram')\n",
    "plt.xlabel('Prevaling Wage')\n",
    "plt.ylabel('Count')\n",
    "plt.show()"
   ]
  },
  {
   "cell_type": "code",
   "execution_count": null,
   "id": "40efbc87-2372-4bf6-b92d-1795e1625ebb",
   "metadata": {},
   "outputs": [],
   "source": [
    "\n",
    "plt.figure(figsize=(10,3))\n",
    "plt.subplot(1,3,1)\n",
    "plt.hist(visa_df['prevailing_wage'],bins=40)\n",
    "plt.title('Histogram')\n",
    "plt.xlabel('Prevaling Wage')\n",
    "plt.ylabel('Count')\n",
    "\n",
    "plt.subplot(1,3,2)\n",
    "plt.hist(visa_df['no_of_employees'],bins=40)\n",
    "plt.title('Histogram')\n",
    "plt.xlabel('no_of_employees')\n",
    "plt.ylabel('Count')\n",
    "\n",
    "plt.subplot(1,3,3)\n",
    "plt.hist(visa_df['yr_of_estab'],bins=40)\n",
    "plt.title('Histogram')\n",
    "plt.xlabel('yr_of_estab')\n",
    "plt.ylabel('Count')\n"
   ]
  },
  {
   "cell_type": "code",
   "execution_count": null,
   "id": "27c46a71-e5e7-4dc9-aa92-6c0bf1d111d5",
   "metadata": {},
   "outputs": [],
   "source": [
    "index_cols"
   ]
  },
  {
   "cell_type": "code",
   "execution_count": null,
   "id": "919dd9ea-36f8-49b6-8672-13d71676a6e5",
   "metadata": {},
   "outputs": [],
   "source": [
    "plt.figure(figsize=(10,3))\n",
    "for i in range(len(numerical_list)):\n",
    "    plt.subplot(1,len(numerical_list),i+1)\n",
    "    plt.hist(visa_df[numerical_list[i]],bins=40)\n",
    "    plt.title(f'Histogram of {numerical_list[i]}')\n",
    "    plt.xlabel('class interval')\n",
    "    plt.ylabel('Count')"
   ]
  },
  {
   "cell_type": "markdown",
   "id": "f99ec0f9-1e9d-4176-8d44-3809ee6195e2",
   "metadata": {},
   "source": [
    "**Histogram using seaborn**\n",
    "\n",
    "- histplot\n",
    "- distplot"
   ]
  },
  {
   "cell_type": "code",
   "execution_count": null,
   "id": "c10535aa-2ac9-43cb-b936-fcc11c0da4cc",
   "metadata": {},
   "outputs": [],
   "source": [
    "import warnings\n",
    "warnings.filterwarnings(\"ignore\")\n",
    "sns.histplot(visa_df['prevailing_wage'])"
   ]
  },
  {
   "cell_type": "code",
   "execution_count": null,
   "id": "b76b7cfa-3da9-4aac-8e51-103f6058259a",
   "metadata": {},
   "outputs": [],
   "source": [
    "sns.distplot(visa_df['prevailing_wage'])"
   ]
  },
  {
   "cell_type": "code",
   "execution_count": null,
   "id": "36c397cb-26f6-48aa-9272-bf70c9f3a32d",
   "metadata": {},
   "outputs": [],
   "source": []
  }
 ],
 "metadata": {
  "kernelspec": {
   "display_name": "Python 3 (ipykernel)",
   "language": "python",
   "name": "python3"
  },
  "language_info": {
   "codemirror_mode": {
    "name": "ipython",
    "version": 3
   },
   "file_extension": ".py",
   "mimetype": "text/x-python",
   "name": "python",
   "nbconvert_exporter": "python",
   "pygments_lexer": "ipython3",
   "version": "3.11.7"
  }
 },
 "nbformat": 4,
 "nbformat_minor": 5
}
